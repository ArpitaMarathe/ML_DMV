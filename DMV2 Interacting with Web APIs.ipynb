{
 "cells": [
  {
   "cell_type": "code",
   "execution_count": 1,
   "id": "27a541d2",
   "metadata": {},
   "outputs": [
    {
     "name": "stderr",
     "output_type": "stream",
     "text": [
      "C:\\Users\\hp\\anaconda3\\lib\\site-packages\\scipy\\__init__.py:146: UserWarning: A NumPy version >=1.16.5 and <1.23.0 is required for this version of SciPy (detected version 1.25.2\n",
      "  warnings.warn(f\"A NumPy version >={np_minversion} and <{np_maxversion}\"\n"
     ]
    },
    {
     "name": "stdout",
     "output_type": "stream",
     "text": [
      "{'coord': {'lon': -82.1703, 'lat': 22.9792}, 'weather': [{'id': 801, 'main': 'Clouds', 'description': 'few clouds', 'icon': '02d'}], 'base': 'stations', 'main': {'temp': 26.28, 'feels_like': 26.28, 'temp_min': 26.28, 'temp_max': 26.28, 'pressure': 1016, 'humidity': 59, 'sea_level': 1016, 'grnd_level': 1001}, 'visibility': 10000, 'wind': {'speed': 7.44, 'deg': 67, 'gust': 9.66}, 'clouds': {'all': 11}, 'dt': 1698332177, 'sys': {'type': 2, 'id': 47732, 'country': 'CU', 'sunrise': 1698319815, 'sunset': 1698360890}, 'timezone': -14400, 'id': 3556406, 'name': 'Jamaica', 'cod': 200}\n",
      "{'coord': {'lon': 120, 'lat': -5}, 'weather': [{'id': 802, 'main': 'Clouds', 'description': 'scattered clouds', 'icon': '03n'}], 'base': 'stations', 'main': {'temp': 22.41, 'feels_like': 21.99, 'temp_min': 22.41, 'temp_max': 22.41, 'pressure': 1014, 'humidity': 49, 'sea_level': 1014, 'grnd_level': 967}, 'visibility': 10000, 'wind': {'speed': 1.57, 'deg': 199, 'gust': 1.51}, 'clouds': {'all': 35}, 'dt': 1698332177, 'sys': {'type': 1, 'id': 9325, 'country': 'ID', 'sunrise': 1698269769, 'sunset': 1698313900}, 'timezone': 28800, 'id': 1643084, 'name': 'Indonesia', 'cod': 200}\n",
      "{'coord': {'lon': -98.5, 'lat': 39.76}, 'weather': [{'id': 804, 'main': 'Clouds', 'description': 'overcast clouds', 'icon': '04d'}], 'base': 'stations', 'main': {'temp': 17.45, 'feels_like': 17.44, 'temp_min': 17.45, 'temp_max': 17.45, 'pressure': 1009, 'humidity': 84, 'sea_level': 1009, 'grnd_level': 947}, 'visibility': 10000, 'wind': {'speed': 3.62, 'deg': 197, 'gust': 5.08}, 'clouds': {'all': 97}, 'dt': 1698332178, 'sys': {'type': 2, 'id': 2025914, 'country': 'US', 'sunrise': 1698324937, 'sunset': 1698363605}, 'timezone': -18000, 'id': 6252001, 'name': 'United States of America', 'cod': 200}\n",
      "{'coord': {'lon': 34.9115, 'lat': 39.059}, 'weather': [{'id': 804, 'main': 'Clouds', 'description': 'overcast clouds', 'icon': '04n'}], 'base': 'stations', 'main': {'temp': 21.4, 'feels_like': 20.35, 'temp_min': 21.4, 'temp_max': 21.4, 'pressure': 1013, 'humidity': 29, 'sea_level': 1013, 'grnd_level': 883}, 'visibility': 10000, 'wind': {'speed': 3.07, 'deg': 225, 'gust': 4.72}, 'clouds': {'all': 100}, 'dt': 1698332178, 'sys': {'type': 1, 'id': 6964, 'country': 'TR', 'sunrise': 1698292834, 'sunset': 1698331675}, 'timezone': 10800, 'id': 298795, 'name': 'Turkey', 'cod': 200}\n",
      "{'coord': {'lon': 45, 'lat': 25}, 'weather': [{'id': 802, 'main': 'Clouds', 'description': 'scattered clouds', 'icon': '03n'}], 'base': 'stations', 'main': {'temp': 26.8, 'feels_like': 26.33, 'temp_min': 26.8, 'temp_max': 26.8, 'pressure': 1015, 'humidity': 31, 'sea_level': 1015, 'grnd_level': 928}, 'visibility': 10000, 'wind': {'speed': 4.14, 'deg': 82, 'gust': 4.21}, 'clouds': {'all': 30}, 'dt': 1698332179, 'sys': {'country': 'SA', 'sunrise': 1698289407, 'sunset': 1698330260}, 'timezone': 10800, 'id': 102358, 'name': 'Saudi Arabia', 'cod': 200}\n",
      "{'coord': {'lon': -75.5299, 'lat': 40.6801}, 'weather': [{'id': 800, 'main': 'Clear', 'description': 'clear sky', 'icon': '01d'}], 'base': 'stations', 'main': {'temp': 18.53, 'feels_like': 18.19, 'temp_min': 16.9, 'temp_max': 22.89, 'pressure': 1018, 'humidity': 67}, 'visibility': 10000, 'wind': {'speed': 2.06, 'deg': 210}, 'clouds': {'all': 0}, 'dt': 1698332179, 'sys': {'type': 2, 'id': 2041448, 'country': 'US', 'sunrise': 1698319500, 'sunset': 1698358017}, 'timezone': -14400, 'id': 5188351, 'name': 'Egypt', 'cod': 200}\n",
      "{'coord': {'lon': -99.2333, 'lat': 25.7}, 'weather': [{'id': 804, 'main': 'Clouds', 'description': 'overcast clouds', 'icon': '04d'}], 'base': 'stations', 'main': {'temp': 26.8, 'feels_like': 28.82, 'temp_min': 26.8, 'temp_max': 26.8, 'pressure': 1013, 'humidity': 74, 'sea_level': 1013, 'grnd_level': 997}, 'visibility': 10000, 'wind': {'speed': 5.9, 'deg': 143, 'gust': 7.1}, 'clouds': {'all': 97}, 'dt': 1698332180, 'sys': {'country': 'MX', 'sunrise': 1698324081, 'sunset': 1698364814}, 'timezone': -21600, 'id': 3530839, 'name': 'China', 'cod': 200}\n"
     ]
    },
    {
     "data": {
      "text/html": [
       "<div>\n",
       "<style scoped>\n",
       "    .dataframe tbody tr th:only-of-type {\n",
       "        vertical-align: middle;\n",
       "    }\n",
       "\n",
       "    .dataframe tbody tr th {\n",
       "        vertical-align: top;\n",
       "    }\n",
       "\n",
       "    .dataframe thead th {\n",
       "        text-align: right;\n",
       "    }\n",
       "</style>\n",
       "<table border=\"1\" class=\"dataframe\">\n",
       "  <thead>\n",
       "    <tr style=\"text-align: right;\">\n",
       "      <th></th>\n",
       "      <th>Names</th>\n",
       "      <th>Max_Temp</th>\n",
       "      <th>Min_Temp</th>\n",
       "      <th>Humidity</th>\n",
       "      <th>WindSpeed</th>\n",
       "    </tr>\n",
       "  </thead>\n",
       "  <tbody>\n",
       "    <tr>\n",
       "      <th>0</th>\n",
       "      <td>Jamaica</td>\n",
       "      <td>26.28</td>\n",
       "      <td>26.28</td>\n",
       "      <td>59</td>\n",
       "      <td>7.44</td>\n",
       "    </tr>\n",
       "    <tr>\n",
       "      <th>1</th>\n",
       "      <td>Indonesia</td>\n",
       "      <td>22.41</td>\n",
       "      <td>22.41</td>\n",
       "      <td>49</td>\n",
       "      <td>1.57</td>\n",
       "    </tr>\n",
       "    <tr>\n",
       "      <th>2</th>\n",
       "      <td>United States of America</td>\n",
       "      <td>17.45</td>\n",
       "      <td>17.45</td>\n",
       "      <td>84</td>\n",
       "      <td>3.62</td>\n",
       "    </tr>\n",
       "    <tr>\n",
       "      <th>3</th>\n",
       "      <td>Turkey</td>\n",
       "      <td>21.40</td>\n",
       "      <td>21.40</td>\n",
       "      <td>29</td>\n",
       "      <td>3.07</td>\n",
       "    </tr>\n",
       "    <tr>\n",
       "      <th>4</th>\n",
       "      <td>Saudi Arabia</td>\n",
       "      <td>26.80</td>\n",
       "      <td>26.80</td>\n",
       "      <td>31</td>\n",
       "      <td>4.14</td>\n",
       "    </tr>\n",
       "  </tbody>\n",
       "</table>\n",
       "</div>"
      ],
      "text/plain": [
       "                      Names  Max_Temp  Min_Temp  Humidity  WindSpeed\n",
       "0                   Jamaica     26.28     26.28        59       7.44\n",
       "1                 Indonesia     22.41     22.41        49       1.57\n",
       "2  United States of America     17.45     17.45        84       3.62\n",
       "3                    Turkey     21.40     21.40        29       3.07\n",
       "4              Saudi Arabia     26.80     26.80        31       4.14"
      ]
     },
     "execution_count": 1,
     "metadata": {},
     "output_type": "execute_result"
    }
   ],
   "source": [
    "import requests \n",
    "import pandas as pd \n",
    "import json\n",
    "import matplotlib.pyplot as plt\n",
    "import seaborn as sns\n",
    "import warnings\n",
    "warnings.filterwarnings('ignore')\n",
    "\n",
    "API_key = '2cac9177ae64d8f6733f9e5a51d63919'\n",
    "\n",
    "countries = ['Jamaica', 'Indonesia', 'United States',  \"Turkey\", 'Saudi Arabia' , \"Egypt\", 'China']\n",
    "\n",
    "country_name_list = []\n",
    "maxtemp = []\n",
    "mintemp = []\n",
    "humidity = []\n",
    "windspeed = []\n",
    "\n",
    "for country_names in countries:\n",
    "\n",
    "    url = f'http://api.openweathermap.org/data/2.5/weather?q={country_names}&APPID={API_key}&units=metric'\n",
    "    \n",
    "    r = requests.get(url)\n",
    "        \n",
    "    data = r.json()\n",
    "        \n",
    "    formatted_json = json.dumps(data, sort_keys = True, indent = 4)\n",
    "    \n",
    "    print(data)\n",
    "    country_name_list.append(data['name'])\n",
    "    maxtemp.append(data['main']['temp_max'])\n",
    "    mintemp.append(data['main']['temp_min'])\n",
    "    humidity.append(data['main']['humidity'])\n",
    "    windspeed.append(data['wind']['speed'])\n",
    "            \n",
    "\n",
    "df = pd.DataFrame()\n",
    "df['Names'] = country_name_list\n",
    "df['Max_Temp'] = maxtemp\n",
    "df['Min_Temp'] = mintemp\n",
    "df['Humidity'] = humidity\n",
    "df['WindSpeed'] = windspeed\n",
    "\n",
    "df.head()    "
   ]
  },
  {
   "cell_type": "code",
   "execution_count": 2,
   "id": "90a21a84",
   "metadata": {},
   "outputs": [
    {
     "data": {
      "text/plain": [
       "Names        0\n",
       "Max_Temp     0\n",
       "Min_Temp     0\n",
       "Humidity     0\n",
       "WindSpeed    0\n",
       "dtype: int64"
      ]
     },
     "execution_count": 2,
     "metadata": {},
     "output_type": "execute_result"
    }
   ],
   "source": [
    "df.isna().sum()"
   ]
  },
  {
   "cell_type": "code",
   "execution_count": 3,
   "id": "48103f35",
   "metadata": {},
   "outputs": [
    {
     "data": {
      "text/plain": [
       "0"
      ]
     },
     "execution_count": 3,
     "metadata": {},
     "output_type": "execute_result"
    }
   ],
   "source": [
    "df.duplicated().sum()"
   ]
  },
  {
   "cell_type": "code",
   "execution_count": 4,
   "id": "3cd0a6de",
   "metadata": {},
   "outputs": [
    {
     "data": {
      "text/html": [
       "<div>\n",
       "<style scoped>\n",
       "    .dataframe tbody tr th:only-of-type {\n",
       "        vertical-align: middle;\n",
       "    }\n",
       "\n",
       "    .dataframe tbody tr th {\n",
       "        vertical-align: top;\n",
       "    }\n",
       "\n",
       "    .dataframe thead th {\n",
       "        text-align: right;\n",
       "    }\n",
       "</style>\n",
       "<table border=\"1\" class=\"dataframe\">\n",
       "  <thead>\n",
       "    <tr style=\"text-align: right;\">\n",
       "      <th></th>\n",
       "      <th>Max_Temp</th>\n",
       "      <th>Min_Temp</th>\n",
       "      <th>Humidity</th>\n",
       "      <th>WindSpeed</th>\n",
       "    </tr>\n",
       "  </thead>\n",
       "  <tbody>\n",
       "    <tr>\n",
       "      <th>count</th>\n",
       "      <td>7.000000</td>\n",
       "      <td>7.000000</td>\n",
       "      <td>7.000000</td>\n",
       "      <td>7.000000</td>\n",
       "    </tr>\n",
       "    <tr>\n",
       "      <th>mean</th>\n",
       "      <td>23.432857</td>\n",
       "      <td>22.577143</td>\n",
       "      <td>56.142857</td>\n",
       "      <td>3.971429</td>\n",
       "    </tr>\n",
       "    <tr>\n",
       "      <th>std</th>\n",
       "      <td>3.465293</td>\n",
       "      <td>4.268242</td>\n",
       "      <td>20.979582</td>\n",
       "      <td>2.087075</td>\n",
       "    </tr>\n",
       "    <tr>\n",
       "      <th>min</th>\n",
       "      <td>17.450000</td>\n",
       "      <td>16.900000</td>\n",
       "      <td>29.000000</td>\n",
       "      <td>1.570000</td>\n",
       "    </tr>\n",
       "    <tr>\n",
       "      <th>25%</th>\n",
       "      <td>21.905000</td>\n",
       "      <td>19.425000</td>\n",
       "      <td>40.000000</td>\n",
       "      <td>2.565000</td>\n",
       "    </tr>\n",
       "    <tr>\n",
       "      <th>50%</th>\n",
       "      <td>22.890000</td>\n",
       "      <td>22.410000</td>\n",
       "      <td>59.000000</td>\n",
       "      <td>3.620000</td>\n",
       "    </tr>\n",
       "    <tr>\n",
       "      <th>75%</th>\n",
       "      <td>26.540000</td>\n",
       "      <td>26.540000</td>\n",
       "      <td>70.500000</td>\n",
       "      <td>5.020000</td>\n",
       "    </tr>\n",
       "    <tr>\n",
       "      <th>max</th>\n",
       "      <td>26.800000</td>\n",
       "      <td>26.800000</td>\n",
       "      <td>84.000000</td>\n",
       "      <td>7.440000</td>\n",
       "    </tr>\n",
       "  </tbody>\n",
       "</table>\n",
       "</div>"
      ],
      "text/plain": [
       "        Max_Temp   Min_Temp   Humidity  WindSpeed\n",
       "count   7.000000   7.000000   7.000000   7.000000\n",
       "mean   23.432857  22.577143  56.142857   3.971429\n",
       "std     3.465293   4.268242  20.979582   2.087075\n",
       "min    17.450000  16.900000  29.000000   1.570000\n",
       "25%    21.905000  19.425000  40.000000   2.565000\n",
       "50%    22.890000  22.410000  59.000000   3.620000\n",
       "75%    26.540000  26.540000  70.500000   5.020000\n",
       "max    26.800000  26.800000  84.000000   7.440000"
      ]
     },
     "execution_count": 4,
     "metadata": {},
     "output_type": "execute_result"
    }
   ],
   "source": [
    "df.describe()"
   ]
  },
  {
   "cell_type": "code",
   "execution_count": 5,
   "id": "848f9276",
   "metadata": {},
   "outputs": [
    {
     "name": "stdout",
     "output_type": "stream",
     "text": [
      "<class 'pandas.core.frame.DataFrame'>\n",
      "RangeIndex: 7 entries, 0 to 6\n",
      "Data columns (total 5 columns):\n",
      " #   Column     Non-Null Count  Dtype  \n",
      "---  ------     --------------  -----  \n",
      " 0   Names      7 non-null      object \n",
      " 1   Max_Temp   7 non-null      float64\n",
      " 2   Min_Temp   7 non-null      float64\n",
      " 3   Humidity   7 non-null      int64  \n",
      " 4   WindSpeed  7 non-null      float64\n",
      "dtypes: float64(3), int64(1), object(1)\n",
      "memory usage: 408.0+ bytes\n"
     ]
    }
   ],
   "source": [
    "df.info()"
   ]
  },
  {
   "cell_type": "code",
   "execution_count": 6,
   "id": "1647ad8d",
   "metadata": {},
   "outputs": [
    {
     "data": {
      "image/png": "[encoded data removed]",
      "text/plain": [
       "<Figure size 864x432 with 1 Axes>"
      ]
     },
     "metadata": {
      "needs_background": "light"
     },
     "output_type": "display_data"
    }
   ],
   "source": [
    "plt.figure(figsize=(12,6))\n",
    "plt.bar(df['Names'], df['Max_Temp'], color='crimson')\n",
    "plt.title(\"Max Temperature in different countries\")\n",
    "plt.ylabel(\"Temperature\")\n",
    "plt.show()"
   ]
  },
  {
   "cell_type": "code",
   "execution_count": 7,
   "id": "0832917b",
   "metadata": {},
   "outputs": [
    {
     "data": {
      "image/png": "[encoded data removed]",
      "text/plain": [
       "<Figure size 864x432 with 1 Axes>"
      ]
     },
     "metadata": {
      "needs_background": "light"
     },
     "output_type": "display_data"
    }
   ],
   "source": [
    "plt.figure(figsize=(12,6))\n",
    "plt.bar(df['Names'], df['Min_Temp'], color='skyblue')\n",
    "plt.title(\"Min Temperature in different countries\")\n",
    "plt.ylabel(\"Temperature\")\n",
    "plt.show()"
   ]
  },
  {
   "cell_type": "code",
   "execution_count": 8,
   "id": "9892240b",
   "metadata": {},
   "outputs": [
    {
     "data": {
      "image/png": "[encoded data removed]",
      "text/plain": [
       "<Figure size 432x288 with 2 Axes>"
      ]
     },
     "metadata": {
      "needs_background": "light"
     },
     "output_type": "display_data"
    }
   ],
   "source": [
    "corre = df[['Min_Temp','Humidity']].corr()\n",
    "sns.heatmap(corre, annot=True)\n",
    "plt.title(\"Temperature to Humidity relationship\")\n",
    "plt.show()"
   ]
  },
  {
   "cell_type": "code",
   "execution_count": null,
   "id": "41effa59",
   "metadata": {},
   "outputs": [],
   "source": []
  }
 ],
 "metadata": {
  "kernelspec": {
   "display_name": "Python 3 (ipykernel)",
   "language": "python",
   "name": "python3"
  },
  "language_info": {
   "codemirror_mode": {
    "name": "ipython",
    "version": 3
   },
   "file_extension": ".py",
   "mimetype": "text/x-python",
   "name": "python",
   "nbconvert_exporter": "python",
   "pygments_lexer": "ipython3",
   "version": "3.9.12"
  }
 },
 "nbformat": 4,
 "nbformat_minor": 5
}
